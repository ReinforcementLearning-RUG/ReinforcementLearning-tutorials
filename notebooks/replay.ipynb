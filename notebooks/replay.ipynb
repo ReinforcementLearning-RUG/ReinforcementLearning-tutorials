{
 "cells": [
  {
   "cell_type": "markdown",
   "metadata": {},
   "source": [
    "# TorchRL memory replay buffer\n",
    "[![Open In Colab](https://colab.research.google.com/assets/colab-badge.svg)](https://colab.research.google.com/github/ReinforcementLearning-RUG/ReinforcementLearning-tutorials/blob/main/notebooks/replay.ipynb)"
   ]
  },
  {
   "cell_type": "code",
   "execution_count": 16,
   "metadata": {},
   "outputs": [
    {
     "name": "stdout",
     "output_type": "stream",
     "text": [
      "Requirement already satisfied: torchrl in /home/matthijs/programming/ReinforcementLearning-tutorials/.venv/lib/python3.10/site-packages (0.3.1)\n",
      "Requirement already satisfied: torch>=2.1.0 in /home/matthijs/programming/ReinforcementLearning-tutorials/.venv/lib/python3.10/site-packages (from torchrl) (2.2.1)\n",
      "Requirement already satisfied: numpy in /home/matthijs/programming/ReinforcementLearning-tutorials/.venv/lib/python3.10/site-packages (from torchrl) (1.26.4)\n",
      "Requirement already satisfied: packaging in /home/matthijs/programming/ReinforcementLearning-tutorials/.venv/lib/python3.10/site-packages (from torchrl) (24.0)\n",
      "Requirement already satisfied: cloudpickle in /home/matthijs/programming/ReinforcementLearning-tutorials/.venv/lib/python3.10/site-packages (from torchrl) (3.0.0)\n",
      "Requirement already satisfied: tensordict>=0.3.1 in /home/matthijs/programming/ReinforcementLearning-tutorials/.venv/lib/python3.10/site-packages (from torchrl) (0.3.1)\n",
      "Requirement already satisfied: filelock in /home/matthijs/programming/ReinforcementLearning-tutorials/.venv/lib/python3.10/site-packages (from torch>=2.1.0->torchrl) (3.13.1)\n",
      "Requirement already satisfied: typing-extensions>=4.8.0 in /home/matthijs/programming/ReinforcementLearning-tutorials/.venv/lib/python3.10/site-packages (from torch>=2.1.0->torchrl) (4.10.0)\n",
      "Requirement already satisfied: sympy in /home/matthijs/programming/ReinforcementLearning-tutorials/.venv/lib/python3.10/site-packages (from torch>=2.1.0->torchrl) (1.12)\n",
      "Requirement already satisfied: networkx in /home/matthijs/programming/ReinforcementLearning-tutorials/.venv/lib/python3.10/site-packages (from torch>=2.1.0->torchrl) (3.2.1)\n",
      "Requirement already satisfied: jinja2 in /home/matthijs/programming/ReinforcementLearning-tutorials/.venv/lib/python3.10/site-packages (from torch>=2.1.0->torchrl) (3.1.3)\n",
      "Requirement already satisfied: fsspec in /home/matthijs/programming/ReinforcementLearning-tutorials/.venv/lib/python3.10/site-packages (from torch>=2.1.0->torchrl) (2024.2.0)\n",
      "Requirement already satisfied: nvidia-cuda-nvrtc-cu12==12.1.105 in /home/matthijs/programming/ReinforcementLearning-tutorials/.venv/lib/python3.10/site-packages (from torch>=2.1.0->torchrl) (12.1.105)\n",
      "Requirement already satisfied: nvidia-cuda-runtime-cu12==12.1.105 in /home/matthijs/programming/ReinforcementLearning-tutorials/.venv/lib/python3.10/site-packages (from torch>=2.1.0->torchrl) (12.1.105)\n",
      "Requirement already satisfied: nvidia-cuda-cupti-cu12==12.1.105 in /home/matthijs/programming/ReinforcementLearning-tutorials/.venv/lib/python3.10/site-packages (from torch>=2.1.0->torchrl) (12.1.105)\n",
      "Requirement already satisfied: nvidia-cudnn-cu12==8.9.2.26 in /home/matthijs/programming/ReinforcementLearning-tutorials/.venv/lib/python3.10/site-packages (from torch>=2.1.0->torchrl) (8.9.2.26)\n",
      "Requirement already satisfied: nvidia-cublas-cu12==12.1.3.1 in /home/matthijs/programming/ReinforcementLearning-tutorials/.venv/lib/python3.10/site-packages (from torch>=2.1.0->torchrl) (12.1.3.1)\n",
      "Requirement already satisfied: nvidia-cufft-cu12==11.0.2.54 in /home/matthijs/programming/ReinforcementLearning-tutorials/.venv/lib/python3.10/site-packages (from torch>=2.1.0->torchrl) (11.0.2.54)\n",
      "Requirement already satisfied: nvidia-curand-cu12==10.3.2.106 in /home/matthijs/programming/ReinforcementLearning-tutorials/.venv/lib/python3.10/site-packages (from torch>=2.1.0->torchrl) (10.3.2.106)\n",
      "Requirement already satisfied: nvidia-cusolver-cu12==11.4.5.107 in /home/matthijs/programming/ReinforcementLearning-tutorials/.venv/lib/python3.10/site-packages (from torch>=2.1.0->torchrl) (11.4.5.107)\n",
      "Requirement already satisfied: nvidia-cusparse-cu12==12.1.0.106 in /home/matthijs/programming/ReinforcementLearning-tutorials/.venv/lib/python3.10/site-packages (from torch>=2.1.0->torchrl) (12.1.0.106)\n",
      "Requirement already satisfied: nvidia-nccl-cu12==2.19.3 in /home/matthijs/programming/ReinforcementLearning-tutorials/.venv/lib/python3.10/site-packages (from torch>=2.1.0->torchrl) (2.19.3)\n",
      "Requirement already satisfied: nvidia-nvtx-cu12==12.1.105 in /home/matthijs/programming/ReinforcementLearning-tutorials/.venv/lib/python3.10/site-packages (from torch>=2.1.0->torchrl) (12.1.105)\n",
      "Requirement already satisfied: triton==2.2.0 in /home/matthijs/programming/ReinforcementLearning-tutorials/.venv/lib/python3.10/site-packages (from torch>=2.1.0->torchrl) (2.2.0)\n",
      "Requirement already satisfied: nvidia-nvjitlink-cu12 in /home/matthijs/programming/ReinforcementLearning-tutorials/.venv/lib/python3.10/site-packages (from nvidia-cusolver-cu12==11.4.5.107->torch>=2.1.0->torchrl) (12.4.99)\n",
      "Requirement already satisfied: MarkupSafe>=2.0 in /home/matthijs/programming/ReinforcementLearning-tutorials/.venv/lib/python3.10/site-packages (from jinja2->torch>=2.1.0->torchrl) (2.1.5)\n",
      "Requirement already satisfied: mpmath>=0.19 in /home/matthijs/programming/ReinforcementLearning-tutorials/.venv/lib/python3.10/site-packages (from sympy->torch>=2.1.0->torchrl) (1.3.0)\n",
      "\n",
      "\u001b[1m[\u001b[0m\u001b[34;49mnotice\u001b[0m\u001b[1;39;49m]\u001b[0m\u001b[39;49m A new release of pip is available: \u001b[0m\u001b[31;49m23.3.1\u001b[0m\u001b[39;49m -> \u001b[0m\u001b[32;49m24.0\u001b[0m\n",
      "\u001b[1m[\u001b[0m\u001b[34;49mnotice\u001b[0m\u001b[1;39;49m]\u001b[0m\u001b[39;49m To update, run: \u001b[0m\u001b[32;49mpip install --upgrade pip\u001b[0m\n",
      "Note: you may need to restart the kernel to use updated packages.\n"
     ]
    }
   ],
   "source": [
    "# Install dependencies for google colab\n",
    "%pip install torchrl"
   ]
  },
  {
   "cell_type": "code",
   "execution_count": 17,
   "metadata": {},
   "outputs": [
    {
     "data": {
      "text/plain": [
       "(tensor([1, 1], device='cuda:0'),\n",
       " tensor([2, 2], device='cuda:0'),\n",
       " tensor([3, 3], device='cuda:0'),\n",
       " tensor([4, 4], device='cuda:0'))"
      ]
     },
     "execution_count": 17,
     "metadata": {},
     "output_type": "execute_result"
    }
   ],
   "source": [
    "import torch\n",
    "from torchrl.data import ReplayBuffer, LazyTensorStorage\n",
    "\n",
    "buf = ReplayBuffer(storage=LazyTensorStorage(\n",
    "                    max_size=5,\n",
    "                    device=\"cuda\" if torch.cuda.is_available() else \"cpu\"),\n",
    "                    batch_size=2)        # Sample 2 trajectories each time.\n",
    "\n",
    "trajectory1 = (torch.as_tensor(1), torch.as_tensor(2), torch.as_tensor(3), torch.as_tensor(4))    # S, A, R, S\n",
    "trajectory2 = (torch.as_tensor(5), torch.as_tensor(6), torch.as_tensor(7), torch.as_tensor(8))\n",
    "trajectory3 = (torch.as_tensor(9), torch.as_tensor(10), torch.as_tensor(11), torch.as_tensor(12))\n",
    "\n",
    "buf.add(trajectory1)\n",
    "buf.add(trajectory2)\n",
    "buf.add(trajectory3)\n",
    "\n",
    "buf.sample()     # prints state batch, action batch, reward batch and next state batch.\n"
   ]
  }
 ],
 "metadata": {
  "kernelspec": {
   "display_name": ".venv",
   "language": "python",
   "name": "python3"
  },
  "language_info": {
   "codemirror_mode": {
    "name": "ipython",
    "version": 3
   },
   "file_extension": ".py",
   "mimetype": "text/x-python",
   "name": "python",
   "nbconvert_exporter": "python",
   "pygments_lexer": "ipython3",
   "version": "3.10.12"
  }
 },
 "nbformat": 4,
 "nbformat_minor": 2
}
